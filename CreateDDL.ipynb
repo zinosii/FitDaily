{
 "cells": [
  {
   "cell_type": "code",
   "execution_count": 2,
   "metadata": {},
   "outputs": [],
   "source": [
    "import mysql.connector\n",
    "import sys\n",
    "from collections import defaultdict\n",
    "from tqdm import tqdm\n",
    "import yaml\n",
    "\n",
    "def load_config(file_path=\".env.yml\"):\n",
    "    with open(file_path, \"r\") as yaml_file:\n",
    "        config = yaml.safe_load(yaml_file)\n",
    "    return config\n",
    "\n",
    "# .env.yml 파일에서 설정을 가져옴\n",
    "config_data = load_config()\n",
    "\n",
    "\n",
    "try:\n",
    "    conn = mysql.connector.connect(\n",
    "        user=config_data['user'],\n",
    "        password=config_data['password'],\n",
    "        host=config_data['host'],\n",
    "        port=config_data['port'],\n",
    "        database=config_data['database'],\n",
    "    )\n",
    "except mysql.connector.Error as e:\n",
    "    print(f\"Error connecting to MariaDB Platform: {e}\")"
   ]
  },
  {
   "cell_type": "code",
   "execution_count": null,
   "metadata": {},
   "outputs": [],
   "source": [
    "cur = conn.cursor()\n",
    "sql_file_path = \"./DDl/tables.sql\"\n",
    "with open(sql_file_path, \"r\") as sql_file:\n",
    "    sql_query = sql_file.read()\n",
    "sql_query = ['CREATE' + i for i in sql_query.split('CREATE')[1:]]\n",
    "for i in sql_query:\n",
    "    try:\n",
    "        cur.execute(i)\n",
    "    except mysql.connector.Error as e:\n",
    "        print(e)\n",
    "        continue\n",
    "\n",
    "conn.commit()\n",
    "\n",
    "conn.close()"
   ]
  }
 ],
 "metadata": {
  "kernelspec": {
   "display_name": "Python 3",
   "language": "python",
   "name": "python3"
  },
  "language_info": {
   "codemirror_mode": {
    "name": "ipython",
    "version": 3
   },
   "file_extension": ".py",
   "mimetype": "text/x-python",
   "name": "python",
   "nbconvert_exporter": "python",
   "pygments_lexer": "ipython3",
   "version": "3.10.13"
  }
 },
 "nbformat": 4,
 "nbformat_minor": 2
}
